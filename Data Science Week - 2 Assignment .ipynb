{
  "nbformat": 4,
  "nbformat_minor": 0,
  "metadata": {
    "colab": {
      "private_outputs": true,
      "provenance": [],
      "include_colab_link": true
    },
    "kernelspec": {
      "name": "python3",
      "display_name": "Python 3"
    },
    "language_info": {
      "name": "python"
    }
  },
  "cells": [
    {
      "cell_type": "markdown",
      "metadata": {
        "id": "view-in-github",
        "colab_type": "text"
      },
      "source": [
        "<a href=\"https://colab.research.google.com/github/devkhetan/ML-Internship/blob/master/Data%20Science%20Week%20-%202%20Assignment%20.ipynb\" target=\"_parent\"><img src=\"https://colab.research.google.com/assets/colab-badge.svg\" alt=\"Open In Colab\"/></a>"
      ]
    },
    {
      "cell_type": "code",
      "execution_count": null,
      "metadata": {
        "id": "FwF7kwz9_T07"
      },
      "outputs": [],
      "source": [
        "import numpy as np\n",
        "import pandas as pd\n",
        "\n",
        "#LINK TO DATASET - https://github.com/dev7saxena/LIS875/blob/main/Data/875_week2_acm_articles.csv"
      ]
    },
    {
      "cell_type": "code",
      "source": [
        "data = pd.read_csv('875_week2_acm_articles.csv', header=0, keep_default_na=False).values.tolist()\n",
        "data = [ (x[0], x[1], x[2], x[3], x[4]) for x in data ]"
      ],
      "metadata": {
        "id": "DqBpMPNOAF8M"
      },
      "execution_count": null,
      "outputs": []
    },
    {
      "cell_type": "code",
      "source": [
        "# [ { 'id': x[0], 'conf': x[1], 'year': x[2], 'title': x[3], 'authors': x[4].split(';') } for x in data ]"
      ],
      "metadata": {
        "id": "hz6MSBO4AGeO"
      },
      "execution_count": null,
      "outputs": []
    },
    {
      "cell_type": "code",
      "source": [
        "# { x[2]: {x[1]: x[4].split(';') } for x in data}"
      ],
      "metadata": {
        "id": "TQ3ofL87AGnz"
      },
      "execution_count": null,
      "outputs": []
    },
    {
      "cell_type": "code",
      "source": [
        "# output: a dict where the key is year and the value is another dict (key is a conference, value is a list of articles published in that conference)\n",
        "def get_year_conf_arts(data):\n",
        "  res = {}\n",
        "  for x in (data):\n",
        "    if x[2] in res:\n",
        "      yearObj = res.get(x[2])\n",
        "      if x[1] in yearObj:\n",
        "        yearObj.get(x[1]).append(x[3])\n",
        "      else:\n",
        "        yearObj[x[1]] = [x[3]]\n",
        "    else: \n",
        "      res[x[2]] = {x[1]: [x[3]]}\n",
        "  return res"
      ],
      "metadata": {
        "id": "ZUbYfzU7AGUv"
      },
      "execution_count": null,
      "outputs": []
    },
    {
      "cell_type": "code",
      "source": [
        "def count_num_coauthors(data):\n",
        "  # Hint: create a dict where the key is an author and the value is a set of co-authors\n",
        "  authorArr = [x[4].split(\";\") for x in data]\n",
        "  res = {}\n",
        "  for authorList in authorArr:\n",
        "    for i in range(len(authorList)):\n",
        "      if authorList[i] not in res:\n",
        "        res[authorList[i]] = set()\n",
        "      for j in range(len(authorList)):\n",
        "        if (i != j):\n",
        "            res[authorList[i]].add(authorList[j])\n",
        "  return {x: len(res[x]) for x in res}"
      ],
      "metadata": {
        "id": "8m6sutwrUXk1"
      },
      "execution_count": null,
      "outputs": []
    },
    {
      "cell_type": "code",
      "source": [
        "len(count_num_coauthors(data))"
      ],
      "metadata": {
        "id": "lcr8UCAeUkxC"
      },
      "execution_count": null,
      "outputs": []
    },
    {
      "cell_type": "code",
      "source": [
        "authorSet = set();\n",
        "authors = [ x[4].split(';') for x in data ]\n",
        "for authorsList in authors: \n",
        "  for author in authorsList:\n",
        "    authorSet.add(author);\n",
        "len(authorSet)"
      ],
      "metadata": {
        "id": "ssfEkYUuMYlC"
      },
      "execution_count": null,
      "outputs": []
    },
    {
      "cell_type": "code",
      "source": [
        "get_year_conf_arts(data)"
      ],
      "metadata": {
        "id": "xatJRviqXoRf"
      },
      "execution_count": null,
      "outputs": []
    },
    {
      "cell_type": "code",
      "source": [
        "count_num_coauthors(data)"
      ],
      "metadata": {
        "id": "0wEZWPKdYwPz"
      },
      "execution_count": null,
      "outputs": []
    }
  ]
}